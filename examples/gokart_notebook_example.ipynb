{
 "cells": [
  {
   "cell_type": "code",
   "execution_count": 1,
   "metadata": {},
   "outputs": [
    {
     "name": "stdout",
     "output_type": "stream",
     "text": [
      "gokart                        1.0.2\n"
     ]
    }
   ],
   "source": [
    "!pip list | grep gokart"
   ]
  },
  {
   "cell_type": "code",
   "execution_count": 3,
   "metadata": {},
   "outputs": [],
   "source": [
    "import gokart\n",
    "import luigi"
   ]
  },
  {
   "cell_type": "markdown",
   "metadata": {},
   "source": [
    "# Examples of using gokart at jupyter notebook"
   ]
  },
  {
   "cell_type": "markdown",
   "metadata": {},
   "source": [
    "## Basic Usage\n",
    "This is a very basic usage, just to dump a run result of ExampleTaskA."
   ]
  },
  {
   "cell_type": "code",
   "execution_count": 4,
   "metadata": {},
   "outputs": [
    {
     "name": "stdout",
     "output_type": "stream",
     "text": [
      "example_2\n"
     ]
    }
   ],
   "source": [
    "class ExampleTaskA(gokart.TaskOnKart):\n",
    "    param = luigi.Parameter()\n",
    "    int_param = luigi.IntParameter(default=2)\n",
    "\n",
    "    def run(self):\n",
    "        self.dump(f'DONE {self.param}_{self.int_param}')\n",
    "\n",
    "    \n",
    "task_a = ExampleTaskA(param='example')\n",
    "output = gokart.build(task=task_a)\n",
    "print(output)"
   ]
  },
  {
   "cell_type": "markdown",
   "metadata": {},
   "source": [
    "## Make tasks dependencies with `requires()`\n",
    "ExampleTaskB is dependent on　ExampleTaskC and ExampleTaskD. They are defined in `ExampleTaskB.requires()`."
   ]
  },
  {
   "cell_type": "code",
   "execution_count": 5,
   "metadata": {},
   "outputs": [
    {
     "name": "stdout",
     "output_type": "stream",
     "text": [
      "DONE example_TASKC_TASKD\n"
     ]
    }
   ],
   "source": [
    "class ExampleTaskC(gokart.TaskOnKart):\n",
    "    def run(self):\n",
    "        self.dump('TASKC')\n",
    "    \n",
    "class ExampleTaskD(gokart.TaskOnKart):\n",
    "    def run(self):\n",
    "        self.dump('TASKD')\n",
    "\n",
    "class ExampleTaskB(gokart.TaskOnKart):\n",
    "    param = luigi.Parameter()\n",
    "\n",
    "    def requires(self):\n",
    "        return dict(task_c=ExampleTaskC(), task_d=ExampleTaskD())\n",
    "\n",
    "    def run(self):\n",
    "        task_c = self.load('task_c')\n",
    "        task_d = self.load('task_d')\n",
    "        self.dump(f'DONE {self.param}_{task_c}_{task_d}')\n",
    "    \n",
    "task_b = ExampleTaskB(param='example')\n",
    "output = gokart.build(task=task_b)\n",
    "print(output)"
   ]
  },
  {
   "cell_type": "markdown",
   "metadata": {},
   "source": [
    "## Make tasks dependencies with TaskInstanceParameter\n",
    "The dependencies are same as previous example, however they are defined at the outside of the task instead of defied at `ExampleTaskB.requires()`."
   ]
  },
  {
   "cell_type": "code",
   "execution_count": 6,
   "metadata": {},
   "outputs": [
    {
     "name": "stdout",
     "output_type": "stream",
     "text": [
      "DONE example_TASKC_TASKD\n"
     ]
    }
   ],
   "source": [
    "class ExampleTaskC(gokart.TaskOnKart):\n",
    "    def run(self):\n",
    "        self.dump('TASKC')\n",
    "    \n",
    "class ExampleTaskD(gokart.TaskOnKart):\n",
    "    def run(self):\n",
    "        self.dump('TASKD')\n",
    "\n",
    "class ExampleTaskB(gokart.TaskOnKart):\n",
    "    param = luigi.Parameter()\n",
    "    task_1 = gokart.TaskInstanceParameter()\n",
    "    task_2 = gokart.TaskInstanceParameter()\n",
    "\n",
    "    def requires(self):\n",
    "        return dict(task_1=self.task_1, task_2=self.task_2)  # required tasks are decided from the task parameters `task_1` and `task_2`\n",
    "\n",
    "    def run(self):\n",
    "        task_1 = self.load('task_1')\n",
    "        task_2 = self.load('task_2')\n",
    "        self.dump(f'DONE {self.param}_{task_1}_{task_2}')\n",
    "    \n",
    "task_b = ExampleTaskB(param='example', task_1=ExampleTaskC(), task_2=ExampleTaskD())  # Dependent tasks are defined here\n",
    "output = gokart.build(task=task_b)\n",
    "print(output)"
   ]
  }
 ],
 "metadata": {
  "kernelspec": {
   "display_name": "Python 3.8.8 64-bit ('3.8.8': pyenv)",
   "name": "python388jvsc74a57bd026997db2bf0f03e18da4e606f276befe0d6bf7cab2a6bb74742969d5bbde02ca"
  },
  "language_info": {
   "codemirror_mode": {
    "name": "ipython",
    "version": 3
   },
   "file_extension": ".py",
   "mimetype": "text/x-python",
   "name": "python",
   "nbconvert_exporter": "python",
   "pygments_lexer": "ipython3",
   "version": "3.8.8"
  },
  "metadata": {
   "interpreter": {
    "hash": "26997db2bf0f03e18da4e606f276befe0d6bf7cab2a6bb74742969d5bbde02ca"
   }
  },
  "orig_nbformat": 3
 },
 "nbformat": 4,
 "nbformat_minor": 2
}